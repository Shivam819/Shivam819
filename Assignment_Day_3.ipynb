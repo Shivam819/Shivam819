{
  "nbformat": 4,
  "nbformat_minor": 0,
  "metadata": {
    "colab": {
      "name": " Assignment Day 3",
      "provenance": [],
      "collapsed_sections": [],
      "authorship_tag": "ABX9TyM5/wGwNUH6C6CB7/ZlBu9H",
      "include_colab_link": true
    },
    "kernelspec": {
      "name": "python3",
      "display_name": "Python 3"
    },
    "language_info": {
      "name": "python"
    }
  },
  "cells": [
    {
      "cell_type": "markdown",
      "metadata": {
        "id": "view-in-github",
        "colab_type": "text"
      },
      "source": [
        "<a href=\"https://colab.research.google.com/github/Shivam819/Shivam819/blob/main/Assignment_Day_3.ipynb\" target=\"_parent\"><img src=\"https://colab.research.google.com/assets/colab-badge.svg\" alt=\"Open In Colab\"/></a>"
      ]
    },
    {
      "cell_type": "code",
      "source": [
        "# Question 1\n",
        "\n",
        "print(\"About Ram :- \")\n",
        "a = [input(\"Enter class : \"), input(\"Enter age : \"),\n",
        "     input(\"Enter marks in Math : \"), input(\"Enter marks in Science : \")]\n",
        "print(\"About Shyam :- \")\n",
        "b = [input(\"Enter class : \"), input(\"Enter age : \"), \n",
        "     input(\"Enter marks in Math : \"), input(\"Enter marks in Science : \")]\n",
        "print(\"Both are in same class : \", a[0]==b[0] )\n",
        "print(\"Both are of different age : \", a[1]!=b[1])\n",
        "print(\"Ram score more than Shyam in Maths : \", a[2]>b[2])\n",
        "print(\"Ram score less than Shyam in Science : \", a[3]<b[3])\n",
        "print(\"Ram score more or equal than Shyam in Math : \", a[2]>=b[2])"
      ],
      "metadata": {
        "colab": {
          "base_uri": "https://localhost:8080/"
        },
        "id": "MHP-Nh5Fl6id",
        "outputId": "d2d0d93c-7e3a-490b-d9a0-104bef132958"
      },
      "execution_count": null,
      "outputs": [
        {
          "output_type": "stream",
          "name": "stdout",
          "text": [
            "About Ram :- \n",
            "Enter class : XII\n",
            "Enter age : 18\n",
            "Enter marks in Math : 80\n",
            "Enter marks in Science : 85\n",
            "About Shyam :- \n",
            "Enter class : XII\n",
            "Enter age : 19\n",
            "Enter marks in Math : 90\n",
            "Enter marks in Science : 92\n",
            "Both are in same class :  True\n",
            "Both are of different age :  True\n",
            "Ram score more than Shyam in Maths :  False\n",
            "Ram score less than Shyam in Science :  True\n",
            "Ram score more or equal than Shyam in Math :  False\n"
          ]
        }
      ]
    },
    {
      "cell_type": "code",
      "source": [
        "# Question 2\n",
        "\n",
        "X = int(input(\"Enter the 4 digit RTO number : \"))\n",
        "sum = 0\n",
        "while X!=0:\n",
        "   rem = X%10\n",
        "   sum = sum + rem\n",
        "   X = X//10\n",
        "if sum>12:\n",
        "   print(\"Chulbul agree for the number?\",True) \n",
        "else:\n",
        "   print(\"Chulbul agree for the number?\",False)\n",
        "        "
      ],
      "metadata": {
        "colab": {
          "base_uri": "https://localhost:8080/"
        },
        "id": "c3hzRVOUQkF7",
        "outputId": "a37719e1-dc0c-458a-fd98-5eee4a8e48ee"
      },
      "execution_count": null,
      "outputs": [
        {
          "output_type": "stream",
          "name": "stdout",
          "text": [
            "Enter the 4 digit RTO number : 1234\n",
            "Chulbul agree for the number? False\n"
          ]
        }
      ]
    },
    {
      "cell_type": "code",
      "source": [
        "# Question 3\n",
        "\n",
        "a = int(input(\"Enter a positive integer : \"))\n",
        "if a%2 == 0:\n",
        "   print(\"Is\",a,\"divisible by 2 :\",True)\n",
        "else:\n",
        "   print(\"Is\",a,\"divisible by 2 :\",False)\n",
        "if a%3 == 0:\n",
        "   print(\"Is\",a,\"divisible by 3 :\",True)\n",
        "else:\n",
        "   print(\"Is\",a,\"divisible by 3 :\",False)\n",
        "if a<50:\n",
        "   print(\"Is\",a,\"lesser than 50 :\",True)\n",
        "else:\n",
        "   print(\"Is\",a,\"lesser than 50 :\",False)\n",
        "if a!=51:\n",
        "   print(\"Is\",a,\"not equal to 51 :\",True)\n",
        "else:\n",
        "   print(\"Is\",a,\"not equal to 51 :\",False)                     "
      ],
      "metadata": {
        "colab": {
          "base_uri": "https://localhost:8080/",
          "height": 0
        },
        "id": "ruCH11w-SrAf",
        "outputId": "d1262665-77df-4664-83f6-65c81ab41c8a"
      },
      "execution_count": 27,
      "outputs": [
        {
          "output_type": "stream",
          "name": "stdout",
          "text": [
            "Enter a positive integer : 42\n",
            "Is 42 divisible by 2 : True\n",
            "Is 42 divisible by 3 : True\n",
            "Is 42 lesser than 50 : True\n",
            "Is 42 not equal to 51 : True\n"
          ]
        }
      ]
    },
    {
      "cell_type": "code",
      "source": [
        "# Question 4\n",
        "\n",
        "A = input(\"Dhoni completed his homework? (yes or no) : \")\n",
        "B = input(\"Dhoni cleaned his room? (yes or no) : \")\n",
        "C = input(\"Dhoni had lunch? (yes or no) : \")\n",
        "if A ==\"yes\" and B == \"yes\" and C == \"yes\":\n",
        "   print(True)\n",
        "else:\n",
        "   print(False)   \n",
        "             \n"
      ],
      "metadata": {
        "id": "snDNF3lor26x",
        "colab": {
          "base_uri": "https://localhost:8080/",
          "height": 0
        },
        "outputId": "edbc3184-44d9-4c4a-ab4f-bdf3a7786945"
      },
      "execution_count": 26,
      "outputs": [
        {
          "output_type": "stream",
          "name": "stdout",
          "text": [
            "Dhoni completed his homework? (yes or no) : yes\n",
            "Dhoni cleaned his room? (yes or no) : no\n",
            "Dhoni had lunch? (yes or no) : yes\n",
            "False\n"
          ]
        }
      ]
    },
    {
      "cell_type": "code",
      "source": [
        "# Question 5\n",
        "\n",
        "a = int(input(\"Enter the number : \"))\n",
        "s = 0\n",
        "m = a\n",
        "while a!=0:\n",
        "      rem = a%10\n",
        "      s = s + 1\n",
        "      a = a//10\n",
        "arm = 0 \n",
        "a = m\n",
        "while m!=0:\n",
        "      rem = m%10\n",
        "      arm = arm + (rem**s)\n",
        "      m = m//10\n",
        "if arm == a:\n",
        "   print(\"It is Armstrong number\")\n",
        "else:\n",
        "   print(\"It is not Armstrong number\")               "
      ],
      "metadata": {
        "colab": {
          "base_uri": "https://localhost:8080/",
          "height": 0
        },
        "id": "B6xyvLUfna3W",
        "outputId": "8db81c09-1074-4437-8c59-621ac0b376a3"
      },
      "execution_count": 33,
      "outputs": [
        {
          "output_type": "stream",
          "name": "stdout",
          "text": [
            "Enter the number : 407\n",
            "It is Armstrong number\n"
          ]
        }
      ]
    },
    {
      "cell_type": "code",
      "source": [
        "# Question 6\n",
        "\n",
        "X = [int(input(\"Enter your ENGLISH marks :\")), \n",
        "     int(input(\"Enter your MATHS marks :\")),\n",
        "     int(input(\"Enter your COMPUTER marks :\")),\n",
        "     int(input(\"Enter your PHYSICS marks :\")),\n",
        "     int(input(\"Enter your CHEMISTRY marks :\"))]\n",
        "    \n",
        "sum = 0     \n",
        "for i in range(0,5):\n",
        "    sum = sum + X[i] \n",
        "avg = sum/5\n",
        "print(\"Total Marks :\",sum)\n",
        "print(\"Marks Percentage :\",avg)\n",
        "if avg > 90:           \n",
        "  print(\"Grade : A\") \n",
        "elif avg > 80:\n",
        "  print(\"Grade : B\")\n",
        "elif avg > 70:\n",
        "  print(\"Grade : C\")\n",
        "elif avg > 60:\n",
        "  print(\"Grade : D\")\n",
        "elif avg > 40:\n",
        "  print(\"Grade : E\")\n",
        "else:\n",
        "  print(\"Fail\") \n",
        "\n"
      ],
      "metadata": {
        "colab": {
          "base_uri": "https://localhost:8080/",
          "height": 0
        },
        "id": "RLhHOJLOqPiK",
        "outputId": "3ca48c66-23e1-47df-a179-301fec48cf24"
      },
      "execution_count": 48,
      "outputs": [
        {
          "output_type": "stream",
          "name": "stdout",
          "text": [
            "Enter your ENGLISH marks :76\n",
            "Enter your MATHS marks :47\n",
            "Enter your COMPUTER marks :98\n",
            "Enter your PHYSICS marks :39\n",
            "Enter your CHEMISTRY marks :67\n",
            "Total Marks : 327\n",
            "Marks Percentage : 65.4\n",
            "Grade : D\n"
          ]
        }
      ]
    },
    {
      "cell_type": "code",
      "source": [
        "# Question 7\n",
        "\n",
        "for i in range(65,90):\n",
        "    print(chr(i), end=\" \")"
      ],
      "metadata": {
        "colab": {
          "base_uri": "https://localhost:8080/",
          "height": 0
        },
        "id": "qLNYxJkjBCRI",
        "outputId": "08555d86-35f2-46f6-e37f-fbe03f2eb6ec"
      },
      "execution_count": 51,
      "outputs": [
        {
          "output_type": "stream",
          "name": "stdout",
          "text": [
            "A B C D E F G H I J K L M N O P Q R S T U V W X Y "
          ]
        }
      ]
    },
    {
      "cell_type": "code",
      "source": [
        "# Question 8\n",
        "\n",
        "a = int(input(\"Enter a number : \"))\n",
        "if a<100:\n",
        "   for i in range(1,a+1):\n",
        "       if i%3 == 0:\n",
        "          print(\"Hello\")\n",
        "       else:\n",
        "          print(i) \n",
        "else:\n",
        "   print(\"Wrong input\")              "
      ],
      "metadata": {
        "colab": {
          "base_uri": "https://localhost:8080/",
          "height": 0
        },
        "id": "MMh8j0z6BCYf",
        "outputId": "b7130314-45d4-4ab8-a8d4-4e0618d1c2e3"
      },
      "execution_count": 54,
      "outputs": [
        {
          "output_type": "stream",
          "name": "stdout",
          "text": [
            "Enter a number : 10\n",
            "1\n",
            "2\n",
            "Hello\n",
            "4\n",
            "5\n",
            "Hello\n",
            "7\n",
            "8\n",
            "Hello\n",
            "10\n"
          ]
        }
      ]
    },
    {
      "cell_type": "code",
      "source": [
        "# Question 9\n",
        "\n",
        "R = input(\"Enter the string : \")\n",
        "A = 0\n",
        "for i in R:\n",
        "    if i == 'a' or i == 'e' or i == 'i' or i == 'o' or i == 'u':\n",
        "       A = A + 1\n",
        "print(\"No. of vowels present in string :\",A)       "
      ],
      "metadata": {
        "colab": {
          "base_uri": "https://localhost:8080/",
          "height": 0
        },
        "id": "hB2-1NFkE3xq",
        "outputId": "e45083dc-5d42-40a1-955c-d74f7ae38221"
      },
      "execution_count": 55,
      "outputs": [
        {
          "output_type": "stream",
          "name": "stdout",
          "text": [
            "Enter the string : banana is good for health\n",
            "No. of vowels present in string : 9\n"
          ]
        }
      ]
    },
    {
      "cell_type": "code",
      "source": [
        "# Question 10\n",
        "\n",
        "U = input(\"Enter a string : \")\n",
        "for i in U:\n",
        "    if i=='n':\n",
        "       continue\n",
        "    print(i, end=\"\")   "
      ],
      "metadata": {
        "colab": {
          "base_uri": "https://localhost:8080/",
          "height": 0
        },
        "id": "f4sueWyxGEKB",
        "outputId": "abebdb2c-01bb-4b71-fe53-69dad01e91f8"
      },
      "execution_count": 58,
      "outputs": [
        {
          "output_type": "stream",
          "name": "stdout",
          "text": [
            "Enter a string : hello everyone\n",
            "hello everyoe"
          ]
        }
      ]
    }
  ]
}