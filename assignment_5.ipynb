{
  "nbformat": 4,
  "nbformat_minor": 0,
  "metadata": {
    "colab": {
      "name": "assignment 5",
      "provenance": [],
      "collapsed_sections": [],
      "authorship_tag": "ABX9TyNAYf7WquLSF1DtXNd4FlzX",
      "include_colab_link": true
    },
    "kernelspec": {
      "name": "python3",
      "display_name": "Python 3"
    },
    "language_info": {
      "name": "python"
    }
  },
  "cells": [
    {
      "cell_type": "markdown",
      "metadata": {
        "id": "view-in-github",
        "colab_type": "text"
      },
      "source": [
        "<a href=\"https://colab.research.google.com/github/Shivam819/Shivam819/blob/main/assignment_5.ipynb\" target=\"_parent\"><img src=\"https://colab.research.google.com/assets/colab-badge.svg\" alt=\"Open In Colab\"/></a>"
      ]
    },
    {
      "cell_type": "code",
      "execution_count": 13,
      "metadata": {
        "colab": {
          "base_uri": "https://localhost:8080/",
          "height": 0
        },
        "id": "K04LDuj3KckT",
        "outputId": "7da867db-71e2-4984-c014-bd2ee96d5bf3"
      },
      "outputs": [
        {
          "output_type": "stream",
          "name": "stdout",
          "text": [
            "Enter the amount each person have :-\n",
            "10.50\n",
            "20.50\n",
            "100.30\n",
            "10\n",
            "10\n",
            "Total money collected is : 151.3\n"
          ]
        }
      ],
      "source": [
        "# Question 1\n",
        "\n",
        "print(\"Enter the amount each person have :-\")\n",
        "x = []\n",
        "for i in range(0,5):\n",
        "    x.append(float(input()))\n",
        "def add_money(list):\n",
        "    sum = 0\n",
        "    for i in range(0,len(x)):\n",
        "        sum = sum + x[i]\n",
        "    print(\"Total money collected is :\",sum)    \n",
        "add_money(x)"
      ]
    },
    {
      "cell_type": "code",
      "source": [
        "# Question 2\n",
        "\n",
        "import calendar\n",
        "X = int(input(\"Enter year : \"))\n",
        "for i in range(1,8,2):\n",
        "    print(calendar.month(X,i))\n",
        "for i in range(8,13,2):\n",
        "    print(calendar.month(X,i))"
      ],
      "metadata": {
        "colab": {
          "base_uri": "https://localhost:8080/",
          "height": 0
        },
        "id": "kEamNOzwLXTC",
        "outputId": "27586865-797b-4ef6-b8f9-e82f38eb9691"
      },
      "execution_count": 43,
      "outputs": [
        {
          "output_type": "stream",
          "name": "stdout",
          "text": [
            "Enter year : 2021\n",
            "    January 2021\n",
            "Mo Tu We Th Fr Sa Su\n",
            "             1  2  3\n",
            " 4  5  6  7  8  9 10\n",
            "11 12 13 14 15 16 17\n",
            "18 19 20 21 22 23 24\n",
            "25 26 27 28 29 30 31\n",
            "\n",
            "     March 2021\n",
            "Mo Tu We Th Fr Sa Su\n",
            " 1  2  3  4  5  6  7\n",
            " 8  9 10 11 12 13 14\n",
            "15 16 17 18 19 20 21\n",
            "22 23 24 25 26 27 28\n",
            "29 30 31\n",
            "\n",
            "      May 2021\n",
            "Mo Tu We Th Fr Sa Su\n",
            "                1  2\n",
            " 3  4  5  6  7  8  9\n",
            "10 11 12 13 14 15 16\n",
            "17 18 19 20 21 22 23\n",
            "24 25 26 27 28 29 30\n",
            "31\n",
            "\n",
            "     July 2021\n",
            "Mo Tu We Th Fr Sa Su\n",
            "          1  2  3  4\n",
            " 5  6  7  8  9 10 11\n",
            "12 13 14 15 16 17 18\n",
            "19 20 21 22 23 24 25\n",
            "26 27 28 29 30 31\n",
            "\n",
            "    August 2021\n",
            "Mo Tu We Th Fr Sa Su\n",
            "                   1\n",
            " 2  3  4  5  6  7  8\n",
            " 9 10 11 12 13 14 15\n",
            "16 17 18 19 20 21 22\n",
            "23 24 25 26 27 28 29\n",
            "30 31\n",
            "\n",
            "    October 2021\n",
            "Mo Tu We Th Fr Sa Su\n",
            "             1  2  3\n",
            " 4  5  6  7  8  9 10\n",
            "11 12 13 14 15 16 17\n",
            "18 19 20 21 22 23 24\n",
            "25 26 27 28 29 30 31\n",
            "\n",
            "   December 2021\n",
            "Mo Tu We Th Fr Sa Su\n",
            "       1  2  3  4  5\n",
            " 6  7  8  9 10 11 12\n",
            "13 14 15 16 17 18 19\n",
            "20 21 22 23 24 25 26\n",
            "27 28 29 30 31\n",
            "\n"
          ]
        }
      ]
    },
    {
      "cell_type": "code",
      "source": [
        "# Question 3\n",
        "\n",
        "a = int(input(\"Enter roll number : \"))\n",
        "if a%2 == 0:\n",
        "   print(\"Roll number :\",a)\n",
        "   print(\"Even roll number, set 2 is given\")\n",
        "else:\n",
        "   print(\"Roll number :\",a)\n",
        "   print(\"Odd roll nuumber, set 1 is given\")   "
      ],
      "metadata": {
        "colab": {
          "base_uri": "https://localhost:8080/",
          "height": 0
        },
        "id": "DGcJ5sUrBi3J",
        "outputId": "9880448f-c1ad-4d7b-cc23-bdee04d38bb8"
      },
      "execution_count": 14,
      "outputs": [
        {
          "output_type": "stream",
          "name": "stdout",
          "text": [
            "Enter roll number : 15\n",
            "Roll number : 15\n",
            "Odd roll nuumber, set 1 is given\n"
          ]
        }
      ]
    },
    {
      "cell_type": "code",
      "source": [
        "# Question 4\n",
        "\n",
        "print(\"Enter the names of hit movies :-\")\n",
        "X = []\n",
        "while \"Cut\" not in X:\n",
        "    X.append(input())\n",
        "def director_cut(a):\n",
        "    a.remove(\"Cut\")\n",
        "    print(a)\n",
        "director_cut(X)    \n",
        "    \n",
        "         "
      ],
      "metadata": {
        "colab": {
          "base_uri": "https://localhost:8080/",
          "height": 0
        },
        "id": "6nhqV5UHC5at",
        "outputId": "03a97bb0-9eae-431e-accd-dcf24c52dfb9"
      },
      "execution_count": 24,
      "outputs": [
        {
          "output_type": "stream",
          "name": "stdout",
          "text": [
            "Enter the names of hit movies :-\n",
            "Joker\n",
            "The Dark Night\n",
            "Bahubali\n",
            "Anand\n",
            "Cut\n",
            "['Joker', 'The Dark Night', 'Bahubali', 'Anand']\n"
          ]
        }
      ]
    },
    {
      "cell_type": "code",
      "source": [
        "# Question 7\n",
        "\n",
        "Z = input(\"Enter sentence : \")\n",
        "X = input(\"Enter word : \")\n",
        "if X in Z:\n",
        "   print(\"Exist\")\n",
        "else:\n",
        "   print(\"Not Exist\")   "
      ],
      "metadata": {
        "colab": {
          "base_uri": "https://localhost:8080/",
          "height": 0
        },
        "id": "TD6EkqbuVFYg",
        "outputId": "df538fa1-a703-409f-e8d4-2f066a74234e"
      },
      "execution_count": 36,
      "outputs": [
        {
          "output_type": "stream",
          "name": "stdout",
          "text": [
            "Enter sentence : I have a book of python\n",
            "Enter word : book\n",
            "Exist\n"
          ]
        }
      ]
    }
  ]
}