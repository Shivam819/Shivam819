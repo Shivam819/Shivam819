{
  "nbformat": 4,
  "nbformat_minor": 0,
  "metadata": {
    "colab": {
      "name": "day 3",
      "provenance": [],
      "collapsed_sections": [],
      "authorship_tag": "ABX9TyO3icv6/Gr0ciFg/KaB4Ct9",
      "include_colab_link": true
    },
    "kernelspec": {
      "name": "python3",
      "display_name": "Python 3"
    },
    "language_info": {
      "name": "python"
    }
  },
  "cells": [
    {
      "cell_type": "markdown",
      "metadata": {
        "id": "view-in-github",
        "colab_type": "text"
      },
      "source": [
        "<a href=\"https://colab.research.google.com/github/Shivam819/Shivam819/blob/main/day_3.ipynb\" target=\"_parent\"><img src=\"https://colab.research.google.com/assets/colab-badge.svg\" alt=\"Open In Colab\"/></a>"
      ]
    },
    {
      "cell_type": "code",
      "execution_count": null,
      "metadata": {
        "colab": {
          "base_uri": "https://localhost:8080/"
        },
        "id": "hSVMY_muGj1B",
        "outputId": "d512b480-4507-4fb1-bf55-372df6048aae"
      },
      "outputs": [
        {
          "output_type": "stream",
          "name": "stdout",
          "text": [
            "How many numbers you want to enter : 5\n",
            "15\n",
            "0\n",
            "-25\n",
            "98\n",
            "0\n",
            "Positive Numbers : 2\n",
            "Negativr Numbers : 1\n",
            "Zero Numbers : 2\n"
          ]
        }
      ],
      "source": [
        "# Question 1\n",
        "\n",
        "x = int(input(\"How many numbers you want to enter : \"))\n",
        "lst = []\n",
        "pos_num = 0\n",
        "neg_num = 0\n",
        "zero_num = 0 \n",
        "for i in range(0,x):\n",
        "    y = int(input())\n",
        "    lst.append(y)\n",
        "    if lst[i]>0:\n",
        "       pos_num = pos_num + 1\n",
        "    elif lst[i]<0:\n",
        "       neg_num = neg_num + 1\n",
        "    else:\n",
        "       zero_num = zero_num + 1       \n",
        "print(\"Positive Numbers :\",pos_num)\n",
        "print(\"Negativr Numbers :\",neg_num)\n",
        "print(\"Zero Numbers :\",zero_num)"
      ]
    },
    {
      "cell_type": "code",
      "source": [
        "# Question 2\n",
        "\n",
        "X = int(input(\"Enter number of keywords : \"))\n",
        "lst = []\n",
        "for i in range(0,X):\n",
        "    a = input()\n",
        "    lst.append(a)\n",
        "lst.reverse()\n",
        "print(lst)    "
      ],
      "metadata": {
        "colab": {
          "base_uri": "https://localhost:8080/"
        },
        "id": "IxfTNyC4Sl4H",
        "outputId": "2339a911-4079-4a7a-b93a-d41415a1d7fe"
      },
      "execution_count": null,
      "outputs": [
        {
          "output_type": "stream",
          "name": "stdout",
          "text": [
            "Enter number of keywords : 3\n",
            "Abra\n",
            "Ka\n",
            "Dabra\n",
            "['Dabra', 'Ka', 'Abra']\n"
          ]
        }
      ]
    },
    {
      "cell_type": "code",
      "source": [
        "# Question 3\n",
        "\n",
        "A = int(input(\"Enter the total numbers : \"))\n",
        "X = []\n",
        "sum_even = 0\n",
        "sum_odd = 0\n",
        "for i in range(0,A):\n",
        "    y = int(input())\n",
        "    X.append(y)\n",
        "    if X[i]%2 == 0:\n",
        "       sum_even += X[i]\n",
        "    else:\n",
        "       sum_odd += X[i]\n",
        "print(\"Sum of Even numbers :\",sum_even)\n",
        "print(\"Sum of Odd numbers :\",sum_odd)\n"
      ],
      "metadata": {
        "colab": {
          "base_uri": "https://localhost:8080/"
        },
        "id": "ee1qh8EVWD_i",
        "outputId": "55e7a93a-d94a-45f9-abd8-b924fb1b98f1"
      },
      "execution_count": null,
      "outputs": [
        {
          "output_type": "stream",
          "name": "stdout",
          "text": [
            "Enter the total numbers : 3\n",
            "10\n",
            "21\n",
            "15\n",
            "Sum of Even numbers : 10\n",
            "Sum of Odd numbers : 36\n"
          ]
        }
      ]
    },
    {
      "cell_type": "code",
      "source": [
        "# Question 4\n",
        "\n",
        "D = int(input(\"Enter number of elements : \"))\n",
        "lst = []\n",
        "for i in range(0,D):\n",
        "    y = int(input())\n",
        "    lst.append(y)\n",
        "copy_lst = lst.copy()\n",
        "copy_lst.reverse()\n",
        "\n",
        "for i in range(0,D):\n",
        "    print(lst[i], copy_lst[i])\n",
        "   "
      ],
      "metadata": {
        "colab": {
          "base_uri": "https://localhost:8080/"
        },
        "id": "2696jg29aeDM",
        "outputId": "0f4027d3-2298-4cc2-c621-2905e772338c"
      },
      "execution_count": null,
      "outputs": [
        {
          "output_type": "stream",
          "name": "stdout",
          "text": [
            "Enter number of elements : 4\n",
            "25\n",
            "50\n",
            "75\n",
            "90\n",
            "25 90\n",
            "50 75\n",
            "75 50\n",
            "90 25\n"
          ]
        }
      ]
    },
    {
      "cell_type": "code",
      "source": [
        "# Question 5\n",
        "\n",
        "X = int(input(\"Enter number of values : \"))\n",
        "lst = []\n",
        "for i in range(0,X):\n",
        "    y = int(input())\n",
        "    lst.append(y)\n",
        "unq = set(lst) \n",
        "print(\"Total no. of unique elements :\",len(unq))"
      ],
      "metadata": {
        "id": "u8jIpczZkZrS",
        "colab": {
          "base_uri": "https://localhost:8080/"
        },
        "outputId": "55f51af7-0162-4d05-efa6-04dbd45195ac"
      },
      "execution_count": 56,
      "outputs": [
        {
          "output_type": "stream",
          "name": "stdout",
          "text": [
            "Enter number of values : 5\n",
            "1\n",
            "5\n",
            "6\n",
            "1\n",
            "5\n",
            "Total no. of unique elements : 3\n"
          ]
        }
      ]
    },
    {
      "cell_type": "code",
      "source": [
        "# Question 6\n",
        "\n",
        "A = int(input(\"Enter no. of values : \"))\n",
        "lst = []\n",
        "for i in range(0,A):\n",
        "    y = int(input())\n",
        "    lst.append(y)\n",
        "lst.sort()\n",
        "print(\"Sum of max. and min. number :\",lst[0]+lst[A-1])    \n"
      ],
      "metadata": {
        "colab": {
          "base_uri": "https://localhost:8080/"
        },
        "id": "mYpABc-IzIWr",
        "outputId": "2ee082d1-da4c-48be-aac2-d670bb307048"
      },
      "execution_count": 65,
      "outputs": [
        {
          "output_type": "stream",
          "name": "stdout",
          "text": [
            "Enter no. of values : 4\n",
            "10\n",
            "23\n",
            "14\n",
            "25\n",
            "Sum of max. and min. number : 35\n"
          ]
        }
      ]
    }
  ]
}